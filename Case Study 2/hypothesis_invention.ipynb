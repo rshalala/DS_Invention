{
 "cells": [
  {
   "cell_type": "markdown",
   "id": "incoming-judgment",
   "metadata": {},
   "source": [
    "# Project \"Osem\""
   ]
  },
  {
   "cell_type": "markdown",
   "id": "unlikely-bleeding",
   "metadata": {},
   "source": [
    "<font size=\"+1\">\"Osem\" manufactures its most famous snack - \"Bamba\", using a dedicated machine. The machine is capable of manufacturing a small bag (50 units), a large bag (200 units), and a huge bag (1000 units). The company that provided the manufacturing machine informed \"Osem\" that there is a probability of 0.05 that the machine will produce a malformed squared Bamba unit. Recently, \"Osem\" customers reported some cases that led the \"Osem\" management staff to suspect that there is some malfunction in the manufacturing machine that should be reported to the company that provided the machine. The management stuff asks your help in deciding which of the reported cases provides the strongest evidence to that the machine might be malfunctioned."
   ]
  },
  {
   "cell_type": "markdown",
   "id": "following-purse",
   "metadata": {},
   "source": [
    "## Task 1a"
   ]
  },
  {
   "cell_type": "markdown",
   "id": "technological-sustainability",
   "metadata": {},
   "source": [
    "<font size=\"+1\">Which of the following Bamba bags provides a stronger evidence that the machine might be malfunctioning? Why?\n",
    "1. <font size=\"+1\">A small Bamba bag (50 units) containing 5 malformed (square bamba) units\n",
    "2. <font size=\"+1\">A large Bamba bag (200 units) containing 20 malformed (square bamba) units "
   ]
  },
  {
   "cell_type": "markdown",
   "id": "subtle-calculation",
   "metadata": {},
   "source": [
    "<font size=\"+1\">< Write your answer here >"
   ]
  },
  {
   "cell_type": "markdown",
   "id": "standard-protocol",
   "metadata": {},
   "source": [
    "## Task 1b"
   ]
  },
  {
   "cell_type": "markdown",
   "id": "neural-cuisine",
   "metadata": {},
   "source": [
    "<font size=\"+1\">Which of the following Bamba bags provides a stronger evidence that the machine might be malfunctioning? Why?\n",
    "1. <font size=\"+1\">A small Bamba bag (50 units) containing 6 malformed (square bamba) units\n",
    "2. <font size=\"+1\">A huge Bamba bag (1000 units) containing 100 malformed (square bamba) units"
   ]
  },
  {
   "cell_type": "markdown",
   "id": "prostate-brand",
   "metadata": {},
   "source": [
    "<font size=\"+1\">< Write your answer here >"
   ]
  },
  {
   "cell_type": "markdown",
   "id": "anonymous-order",
   "metadata": {},
   "source": [
    "## Task 2"
   ]
  },
  {
   "cell_type": "markdown",
   "id": "juvenile-fundamental",
   "metadata": {},
   "source": [
    "<font size=\"+1\">Suggest a numeric measure to estimate the evidence level that the Bamba manufacturing machine might be malfunctioning, given the following:\n",
    "1. <font size=\"+1\">The estimated malformed unit probability (0.05)\n",
    "2. <font size=\"+1\">The bag size (50, 200, or 1000) \n",
    "3. <font size=\"+1\">The number of malformed units in the bag.\n",
    "\n",
    "<font size=\"+1\">A higher result should indicate a stronger evidence of machine malfunction. Describe your measure in words, how would you calculate it?"
   ]
  },
  {
   "cell_type": "markdown",
   "id": "conventional-scientist",
   "metadata": {},
   "source": [
    "<font size=\"+1\">< Write your answer here >"
   ]
  },
  {
   "cell_type": "markdown",
   "id": "raising-client",
   "metadata": {},
   "source": [
    "## Task 3"
   ]
  },
  {
   "cell_type": "markdown",
   "id": "fifth-mainstream",
   "metadata": {},
   "source": [
    "<font size=\"+1\">Implement your suggested measure. The measure gets the estimated probability for a malformed unit, the bag size (amount of units in the bag), and the number of malformed units in the bag. It should return a number to indicate how strong the evidence is. A higher number indicates a stronger evidence."
   ]
  },
  {
   "cell_type": "markdown",
   "id": "coupled-logic",
   "metadata": {},
   "source": [
    "**Important**: Write your code in the provided code cells and **do not** change the signature of the method. That is, do not change the name of the method (calculate_measure) or the input parameters (malformed_probability, bag_size, number_of_malformed_units). If you wish you can write your own methods and use them in the given method."
   ]
  },
  {
   "cell_type": "code",
   "execution_count": 1,
   "id": "exposed-three",
   "metadata": {},
   "outputs": [],
   "source": [
    "def calculate_measure(malformed_probability, bag_size, number_of_malformed_units):\n",
    "    pass  # delete the pass keyword and replace it with your code"
   ]
  },
  {
   "cell_type": "markdown",
   "id": "certain-mauritius",
   "metadata": {},
   "source": [
    "## Task 4"
   ]
  },
  {
   "cell_type": "markdown",
   "id": "lucky-player",
   "metadata": {},
   "source": [
    "Test your measure - Does your measure score support the choices you made in task 1?"
   ]
  },
  {
   "cell_type": "code",
   "execution_count": null,
   "id": "beneficial-minute",
   "metadata": {},
   "outputs": [],
   "source": [
    "# example\n",
    "# calculate_measure(0.05, 50, 5)\n",
    "# calculate_measure(0.05, 200, 20)\n",
    "# calculate_measure(0.05, 50, 6)\n",
    "# calculate_measure(0.05, 1000, 100)"
   ]
  }
 ],
 "metadata": {
  "kernelspec": {
   "display_name": "Python 3 (ipykernel)",
   "language": "python",
   "name": "python3"
  },
  "language_info": {
   "codemirror_mode": {
    "name": "ipython",
    "version": 3
   },
   "file_extension": ".py",
   "mimetype": "text/x-python",
   "name": "python",
   "nbconvert_exporter": "python",
   "pygments_lexer": "ipython3",
   "version": "3.9.13"
  }
 },
 "nbformat": 4,
 "nbformat_minor": 5
}
