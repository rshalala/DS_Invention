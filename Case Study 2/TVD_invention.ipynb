{
 "cells": [
  {
   "cell_type": "markdown",
   "id": "stuck-galaxy",
   "metadata": {},
   "source": [
    "# \"Kids R' Us\" Toystore"
   ]
  },
  {
   "cell_type": "markdown",
   "id": "welsh-jefferson",
   "metadata": {},
   "source": [
    "<font size=\"+1\">\"Kids R' Us\" toystore have decided to produce a new small and huge toy packs that contain different kinds of air, land, and water animals. The small pack contains 30 pieces, and the huge pack contains 150 pieces. According to the company's policy, the distribution of the kind of animals in each pack should be as close as possible to a uniformly distributed pack. That is, if possible, each pack should contain the same number of pieces for each type of toy (e.g. 10 air, 10 land, and 10 water, in a small pack) or as close as possible to that.<br>\n",
    "The packs are produced by a dedicated machine that is sometimes unsuccessful in producing the exact amount of pieces it should. As part of the company's distribution team, you are responsible for deciding which packs to approve for distribution to the customers.\n",
    "\n",
    "<font size=\"+1\">The company's management staff seeks your help in deciding which of the following cases should be approved for distribution:"
   ]
  },
  {
   "cell_type": "markdown",
   "id": "pursuant-norwegian",
   "metadata": {},
   "source": [
    "## Task 1a"
   ]
  },
  {
   "cell_type": "markdown",
   "id": "assumed-blend",
   "metadata": {},
   "source": [
    "<font size=\"+1\">Which of the following packs is more aligned with the company's policy of having packs with uniformly distributed animal types?"
   ]
  },
  {
   "cell_type": "code",
   "execution_count": null,
   "id": "rocky-assembly",
   "metadata": {},
   "outputs": [],
   "source": [
    "import numpy as np\n",
    "\n",
    "# [land animals, air animals, water animals]\n",
    "small_pack = np.array([9, 10, 11])\n",
    "huge_pack = np.array([49, 50, 51])"
   ]
  },
  {
   "cell_type": "markdown",
   "id": "opposed-flight",
   "metadata": {},
   "source": [
    "<font size=\"+1\">< Write your answer here - no need for code, but feel free to use code if it helps you decide >\n"
   ]
  },
  {
   "cell_type": "markdown",
   "id": "controversial-twins",
   "metadata": {
    "tags": []
   },
   "source": [
    "## Task 1b"
   ]
  },
  {
   "cell_type": "markdown",
   "id": "5c7cb9d1-c28f-4539-9220-3afc71e20edd",
   "metadata": {},
   "source": [
    "<font size=\"+1\">Which of the following packs is more aligned with the company's policy of having packs with uniformly distributed animal types?"
   ]
  },
  {
   "cell_type": "code",
   "execution_count": null,
   "id": "charitable-psychiatry",
   "metadata": {},
   "outputs": [],
   "source": [
    "# [land animals, air animals, water animals]\n",
    "small_pack_1 = np.array([8, 12, 10])\n",
    "small_pack_2 = np.array([9, 11, 10])"
   ]
  },
  {
   "cell_type": "markdown",
   "id": "warming-conspiracy",
   "metadata": {},
   "source": [
    "<font size=\"+1\">< Write your answer here - no need for code, but feel free to use code if it helps you decide >\n"
   ]
  },
  {
   "cell_type": "markdown",
   "id": "indonesian-geology",
   "metadata": {},
   "source": [
    "## Task 2"
   ]
  },
  {
   "cell_type": "markdown",
   "id": "compliant-criterion",
   "metadata": {},
   "source": [
    "<font size=\"+1\">Suggest a numeric measure to estimate the distance between a pair of packs of toys. Higher number indicates higher distance. Describe your measure in words, how would you calculate it?"
   ]
  },
  {
   "cell_type": "markdown",
   "id": "clinical-forth",
   "metadata": {},
   "source": [
    "<font size=\"+1\">< Write your answer here >"
   ]
  },
  {
   "cell_type": "markdown",
   "id": "advanced-charter",
   "metadata": {},
   "source": [
    "## Task 3"
   ]
  },
  {
   "cell_type": "markdown",
   "id": "moral-central",
   "metadata": {},
   "source": [
    "<font size=\"+1\">Implement your suggested measure. The measure gets two Numpy arrays as input, each array represents a toy pack. The measure should return a score (number) to indicate the distance between the given pair of packs. A higher score indicates higher distance between the packs."
   ]
  },
  {
   "cell_type": "markdown",
   "id": "alive-transcript",
   "metadata": {},
   "source": [
    "**Important**: write your code in the provided code cells and **do not** change the signature of the method. That is, do not change the name of the method (calculate_measure) or the input parameters (toy_pack_1, toy_pack_2). Delete the 'pass' keyword and fill your code instead."
   ]
  },
  {
   "cell_type": "code",
   "execution_count": null,
   "id": "protective-athletics",
   "metadata": {},
   "outputs": [],
   "source": [
    "def calculate_measure(toy_pack_1, toy_pack_2):\n",
    "    pass"
   ]
  },
  {
   "cell_type": "markdown",
   "id": "light-launch",
   "metadata": {},
   "source": [
    "## Task 4"
   ]
  },
  {
   "cell_type": "markdown",
   "id": "convenient-pencil",
   "metadata": {},
   "source": [
    "Test your measure on the packs provided earlier. Does your measure supports your choices in task 1a and task 1b?"
   ]
  },
  {
   "cell_type": "code",
   "execution_count": null,
   "id": "neither-saturn",
   "metadata": {},
   "outputs": [],
   "source": [
    "# example\n",
    "uniform_small_pack = np.array([10, 10, 10])\n",
    "calculate_measure(small_pack, uniform_small_pack)"
   ]
  },
  {
   "cell_type": "markdown",
   "id": "impressive-david",
   "metadata": {},
   "source": [
    "< Write your answer here >"
   ]
  }
 ],
 "metadata": {
  "kernelspec": {
   "display_name": "Python 3 (ipykernel)",
   "language": "python",
   "name": "python3"
  },
  "language_info": {
   "codemirror_mode": {
    "name": "ipython",
    "version": 3
   },
   "file_extension": ".py",
   "mimetype": "text/x-python",
   "name": "python",
   "nbconvert_exporter": "python",
   "pygments_lexer": "ipython3",
   "version": "3.9.13"
  }
 },
 "nbformat": 4,
 "nbformat_minor": 5
}
