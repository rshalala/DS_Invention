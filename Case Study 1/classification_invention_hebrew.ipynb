{
 "cells": [
  {
   "cell_type": "markdown",
   "metadata": {},
   "source": [
    "# פרויקט ״מדיטסט״"
   ]
  },
  {
   "cell_type": "markdown",
   "metadata": {},
   "source": [
    "לאור משבר הקורונה ישנה דרישה גבוהה לזיהוי אוכלוסיות בסיכון על מנת לספק סיוע הולם. לשם כך חברת ״מדיטסט״ גייסה שני צוותים לבניית מסווגים לאוכלוסיה בסיכון. כל אחד מן הצוותים הציע מסווג שאומן על נתונים מעשרות אלפי אנשים הכולל מידע כגון מחלות רקע, לחץ דם, דופק ועוד. המסווג חוזה עבור כל אדם האם הוא שייך לקבוצת אוכלוסיה בסיכון או לא.\n",
    "\n",
    "חברת ״מדיטסט״ מעוניינת להחליט באיזה מסווג להשתמש, לצורך כך אספה נתונים אמיתיים על 40 אנשים עבורם ידוע האם הם משתייכים לקבוצת אוכלוסיה בסיכון. קבוצת אנשים זו לא נכללה בנתונים שעליהם אומנו המסווגים. \n",
    "\n",
    "המידע מתויג בצורה בינארית: אפס - אוכלוסיה לא בסיכון, אחד - אוכלוסיה בסיכון. ניתן להתייחס לנתונים אלו כנתונים אמינים. \n",
    "\n",
    "להלן הנתונים: "
   ]
  },
  {
   "cell_type": "code",
   "execution_count": null,
   "metadata": {},
   "outputs": [],
   "source": [
    "import numpy as np\n",
    "np.set_printoptions(linewidth=100) # just for printing each array in a single line\n",
    "\n",
    "# The real_data Numpy array contains 40 items representing the real data gathered by \"Meditest\".\n",
    "# Each item in the Numpy array represents the true and reliable classification of a person. \n",
    "# 0 - does not belong to at risk population, 1 - belongs to at risk population.\n",
    "# For example, the person in index 0 is not at risk, while the last one (index 39) is at risk\n",
    "\n",
    "real_data = np.array([0, 0, 0, 0, 0, 0, 0, 0, 0, 0, 0, 0, 0, 0, 0, 0, 0, 0, 0, 0, \n",
    "                      0, 0, 0, 0, 0, 0, 0, 0, 0, 0, 0, 0, 0, 0, 0, 0, 0, 0, 1, 1])"
   ]
  },
  {
   "cell_type": "markdown",
   "metadata": {},
   "source": [
    "## משימה 1-א"
   ]
  },
  {
   "cell_type": "markdown",
   "metadata": {},
   "source": [
    "הנהלת החברה מבקשת את עזרתכם בבחירת המסווג המתאים יותר למשימה. להלן תוצאות הסיווג של שני המסווגים שהוצעו:"
   ]
  },
  {
   "cell_type": "code",
   "execution_count": null,
   "metadata": {},
   "outputs": [],
   "source": [
    "# each item in each of the following Numpy arrays represents the predicted classification of a person. \n",
    "\n",
    "classifier_1 = np.array([0, 0, 0, 0, 0, 0, 0, 0, 0, 0, 0, 0, 0, 0, 0, 0, 0, 0, 0, 0, \n",
    "                         0, 0, 0, 0, 0, 0, 0, 0, 0, 0, 0, 0, 0, 0, 0, 0, 1, 1, 0, 1])\n",
    "classifier_2 = np.array([0, 0, 0, 0, 0, 0, 0, 0, 0, 0, 0, 0, 0, 0, 0, 0, 0, 0, 0, 0, \n",
    "                         0, 0, 0, 0, 0, 0, 0, 0, 0, 0, 0, 0, 0, 0, 0, 1, 1, 1, 1, 1])"
   ]
  },
  {
   "cell_type": "markdown",
   "metadata": {},
   "source": [
    "באיזה מן המסווגים הייתם בוחרים? מדוע?"
   ]
  },
  {
   "cell_type": "markdown",
   "metadata": {},
   "source": [
    "<כתבו את תשובתכם כאן - אין צורך בקוד, אך כמובן שאתם רשאים להשתמש בכתיבת קוד על מנת להחליט>\n"
   ]
  },
  {
   "cell_type": "markdown",
   "metadata": {},
   "source": [
    "## משימה 1-ב"
   ]
  },
  {
   "cell_type": "code",
   "execution_count": null,
   "metadata": {},
   "outputs": [],
   "source": [
    "# each item in each of the following Numpy arrays represents the predicted classification of a person. \n",
    "\n",
    "classifier_3 = np.array([0, 0, 0, 0, 0, 0, 0, 0, 0, 0, 0, 0, 0, 0, 0, 0, 0, 0, 0, 0, \n",
    "                         0, 0, 0, 0, 0, 0, 0, 0, 0, 0, 0, 0, 0, 0, 0, 0, 1, 1, 0, 0])\n",
    "classifier_4 = np.array([0, 0, 0, 0, 0, 0, 0, 0, 0, 0, 0, 0, 0, 0, 0, 0, 0, 0, 0, 0, \n",
    "                         0, 0, 0, 0, 0, 0, 0, 0, 0, 0, 0, 0, 1, 1, 1, 1, 1, 1, 1, 1])"
   ]
  },
  {
   "cell_type": "markdown",
   "metadata": {},
   "source": [
    "באיזה מן המסווגים הייתם בוחרים? מדוע?"
   ]
  },
  {
   "cell_type": "markdown",
   "metadata": {},
   "source": [
    "<כתבו את תשובתכם כאן - אין צורך בקוד, אך כמובן שאתם רשאים להשתמש בכתיבת קוד על מנת להחליט>\n"
   ]
  },
  {
   "cell_type": "markdown",
   "metadata": {},
   "source": [
    "## משימה 2"
   ]
  },
  {
   "cell_type": "markdown",
   "metadata": {},
   "source": [
    "הציעו מדד מספרי להערכת טיב המסווג על סמך תוצאות המסווג והמידע האמיתי. מדד גבוה יותר מצביע על מסווג טוב יותר. תארו את המדד במילים, כיצד תחשבו אותו?"
   ]
  },
  {
   "cell_type": "markdown",
   "metadata": {},
   "source": [
    "<כתבו את תשובתכם כאן>"
   ]
  },
  {
   "cell_type": "markdown",
   "metadata": {},
   "source": [
    "## משימה 3"
   ]
  },
  {
   "cell_type": "markdown",
   "metadata": {},
   "source": [
    "ממשו את המדד שהצעתם/ן. המדד מקבל כקלט שני מערכי נמפיי: המערך הראשון מייצג את המידע האמיתי שברשותנו, המערך השני מייצג את הערכות המסווג. המדד אמור להחזיר ציון מספרי המתאר את טיב המסווג. ציון גבוה יותר מעיד על מסווג טוב יותר\n",
    "\n",
    "מצורפת דוגמא למדד שכבר נלמד - מדד דיוק בסיסי אשר בודק את אחוז ההצלחה בסיווג.\n",
    "\n",
    "כתבו את הקוד בפונקציה המיועדת לכך, נא לא לשנות את חתימת הפונקציה (שם הפונקציה ושמות משתני הקלט)\n",
    "\n",
    "שימו לב: אין תשובה אחת נכונה"
   ]
  },
  {
   "cell_type": "code",
   "execution_count": null,
   "metadata": {},
   "outputs": [],
   "source": [
    "# Classifier measurement example - accuracy\n",
    "def calculate_accuracy(real_data, classifier_results):\n",
    "    correct = 0\n",
    "    for person_index in range(len(real_data)):\n",
    "        if real_data[person_index] == classifier_results[person_index]:\n",
    "            correct += 1\n",
    "    \n",
    "    success_rate = correct / len(real_data)\n",
    "    return success_rate"
   ]
  },
  {
   "cell_type": "code",
   "execution_count": null,
   "metadata": {},
   "outputs": [],
   "source": [
    "def calculate_measure(real_data, classifier_results):\n",
    "    pass  # delete the pass keyword and replace it with your code"
   ]
  },
  {
   "cell_type": "markdown",
   "metadata": {},
   "source": [
    "## משימה 4"
   ]
  },
  {
   "cell_type": "markdown",
   "metadata": {},
   "source": [
    "בחנו את המדד שמימשתם/ן על המסווגים ממשימה 1. האם תוצאות המדד תומכות בבחירות שלכם/ן במשימות 1-א ו- 1-ב?"
   ]
  },
  {
   "cell_type": "code",
   "execution_count": null,
   "metadata": {},
   "outputs": [],
   "source": [
    "# example\n",
    "print(calculate_measure(real_data, classifier_1))\n",
    "print(calculate_measure(real_data, classifier_2))"
   ]
  }
 ],
 "metadata": {
  "kernelspec": {
   "display_name": "Python 3",
   "language": "python",
   "name": "python3"
  },
  "language_info": {
   "codemirror_mode": {
    "name": "ipython",
    "version": 3
   },
   "file_extension": ".py",
   "mimetype": "text/x-python",
   "name": "python",
   "nbconvert_exporter": "python",
   "pygments_lexer": "ipython3",
   "version": "3.8.5"
  }
 },
 "nbformat": 4,
 "nbformat_minor": 4
}
